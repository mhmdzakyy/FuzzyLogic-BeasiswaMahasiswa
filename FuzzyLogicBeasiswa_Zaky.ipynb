{
  "nbformat": 4,
  "nbformat_minor": 0,
  "metadata": {
    "colab": {
      "name": "Tupro2_1301184260.ipynb",
      "provenance": [],
      "collapsed_sections": []
    },
    "kernelspec": {
      "name": "python3",
      "display_name": "Python 3"
    }
  },
  "cells": [
    {
      "cell_type": "markdown",
      "metadata": {
        "id": "31YyNO0DNRug"
      },
      "source": [
        "# Import Libraries"
      ]
    },
    {
      "cell_type": "code",
      "metadata": {
        "id": "GKa49NcSG_IS"
      },
      "source": [
        "# import library\n",
        "import pandas as pd\n",
        "import numpy as np\n",
        "\n",
        "import io\n",
        "import copy as cp\n",
        "\n",
        "# Visualisasi\n",
        "import matplotlib.pyplot as plt\n",
        "import seaborn as sns"
      ],
      "execution_count": 14,
      "outputs": []
    },
    {
      "cell_type": "markdown",
      "metadata": {
        "id": "WxSSVeCxNXNu"
      },
      "source": [
        "# Import Files"
      ]
    },
    {
      "cell_type": "code",
      "metadata": {
        "id": "TxVKldr-J9Ig",
        "outputId": "a8d70bc0-9ffc-4173-94dc-e23769aa53eb",
        "colab": {
          "resources": {
            "http://localhost:8080/nbextensions/google.colab/files.js": {
              "data": "Ly8gQ29weXJpZ2h0IDIwMTcgR29vZ2xlIExMQwovLwovLyBMaWNlbnNlZCB1bmRlciB0aGUgQXBhY2hlIExpY2Vuc2UsIFZlcnNpb24gMi4wICh0aGUgIkxpY2Vuc2UiKTsKLy8geW91IG1heSBub3QgdXNlIHRoaXMgZmlsZSBleGNlcHQgaW4gY29tcGxpYW5jZSB3aXRoIHRoZSBMaWNlbnNlLgovLyBZb3UgbWF5IG9idGFpbiBhIGNvcHkgb2YgdGhlIExpY2Vuc2UgYXQKLy8KLy8gICAgICBodHRwOi8vd3d3LmFwYWNoZS5vcmcvbGljZW5zZXMvTElDRU5TRS0yLjAKLy8KLy8gVW5sZXNzIHJlcXVpcmVkIGJ5IGFwcGxpY2FibGUgbGF3IG9yIGFncmVlZCB0byBpbiB3cml0aW5nLCBzb2Z0d2FyZQovLyBkaXN0cmlidXRlZCB1bmRlciB0aGUgTGljZW5zZSBpcyBkaXN0cmlidXRlZCBvbiBhbiAiQVMgSVMiIEJBU0lTLAovLyBXSVRIT1VUIFdBUlJBTlRJRVMgT1IgQ09ORElUSU9OUyBPRiBBTlkgS0lORCwgZWl0aGVyIGV4cHJlc3Mgb3IgaW1wbGllZC4KLy8gU2VlIHRoZSBMaWNlbnNlIGZvciB0aGUgc3BlY2lmaWMgbGFuZ3VhZ2UgZ292ZXJuaW5nIHBlcm1pc3Npb25zIGFuZAovLyBsaW1pdGF0aW9ucyB1bmRlciB0aGUgTGljZW5zZS4KCi8qKgogKiBAZmlsZW92ZXJ2aWV3IEhlbHBlcnMgZm9yIGdvb2dsZS5jb2xhYiBQeXRob24gbW9kdWxlLgogKi8KKGZ1bmN0aW9uKHNjb3BlKSB7CmZ1bmN0aW9uIHNwYW4odGV4dCwgc3R5bGVBdHRyaWJ1dGVzID0ge30pIHsKICBjb25zdCBlbGVtZW50ID0gZG9jdW1lbnQuY3JlYXRlRWxlbWVudCgnc3BhbicpOwogIGVsZW1lbnQudGV4dENvbnRlbnQgPSB0ZXh0OwogIGZvciAoY29uc3Qga2V5IG9mIE9iamVjdC5rZXlzKHN0eWxlQXR0cmlidXRlcykpIHsKICAgIGVsZW1lbnQuc3R5bGVba2V5XSA9IHN0eWxlQXR0cmlidXRlc1trZXldOwogIH0KICByZXR1cm4gZWxlbWVudDsKfQoKLy8gTWF4IG51bWJlciBvZiBieXRlcyB3aGljaCB3aWxsIGJlIHVwbG9hZGVkIGF0IGEgdGltZS4KY29uc3QgTUFYX1BBWUxPQURfU0laRSA9IDEwMCAqIDEwMjQ7CgpmdW5jdGlvbiBfdXBsb2FkRmlsZXMoaW5wdXRJZCwgb3V0cHV0SWQpIHsKICBjb25zdCBzdGVwcyA9IHVwbG9hZEZpbGVzU3RlcChpbnB1dElkLCBvdXRwdXRJZCk7CiAgY29uc3Qgb3V0cHV0RWxlbWVudCA9IGRvY3VtZW50LmdldEVsZW1lbnRCeUlkKG91dHB1dElkKTsKICAvLyBDYWNoZSBzdGVwcyBvbiB0aGUgb3V0cHV0RWxlbWVudCB0byBtYWtlIGl0IGF2YWlsYWJsZSBmb3IgdGhlIG5leHQgY2FsbAogIC8vIHRvIHVwbG9hZEZpbGVzQ29udGludWUgZnJvbSBQeXRob24uCiAgb3V0cHV0RWxlbWVudC5zdGVwcyA9IHN0ZXBzOwoKICByZXR1cm4gX3VwbG9hZEZpbGVzQ29udGludWUob3V0cHV0SWQpOwp9CgovLyBUaGlzIGlzIHJvdWdobHkgYW4gYXN5bmMgZ2VuZXJhdG9yIChub3Qgc3VwcG9ydGVkIGluIHRoZSBicm93c2VyIHlldCksCi8vIHdoZXJlIHRoZXJlIGFyZSBtdWx0aXBsZSBhc3luY2hyb25vdXMgc3RlcHMgYW5kIHRoZSBQeXRob24gc2lkZSBpcyBnb2luZwovLyB0byBwb2xsIGZvciBjb21wbGV0aW9uIG9mIGVhY2ggc3RlcC4KLy8gVGhpcyB1c2VzIGEgUHJvbWlzZSB0byBibG9jayB0aGUgcHl0aG9uIHNpZGUgb24gY29tcGxldGlvbiBvZiBlYWNoIHN0ZXAsCi8vIHRoZW4gcGFzc2VzIHRoZSByZXN1bHQgb2YgdGhlIHByZXZpb3VzIHN0ZXAgYXMgdGhlIGlucHV0IHRvIHRoZSBuZXh0IHN0ZXAuCmZ1bmN0aW9uIF91cGxvYWRGaWxlc0NvbnRpbnVlKG91dHB1dElkKSB7CiAgY29uc3Qgb3V0cHV0RWxlbWVudCA9IGRvY3VtZW50LmdldEVsZW1lbnRCeUlkKG91dHB1dElkKTsKICBjb25zdCBzdGVwcyA9IG91dHB1dEVsZW1lbnQuc3RlcHM7CgogIGNvbnN0IG5leHQgPSBzdGVwcy5uZXh0KG91dHB1dEVsZW1lbnQubGFzdFByb21pc2VWYWx1ZSk7CiAgcmV0dXJuIFByb21pc2UucmVzb2x2ZShuZXh0LnZhbHVlLnByb21pc2UpLnRoZW4oKHZhbHVlKSA9PiB7CiAgICAvLyBDYWNoZSB0aGUgbGFzdCBwcm9taXNlIHZhbHVlIHRvIG1ha2UgaXQgYXZhaWxhYmxlIHRvIHRoZSBuZXh0CiAgICAvLyBzdGVwIG9mIHRoZSBnZW5lcmF0b3IuCiAgICBvdXRwdXRFbGVtZW50Lmxhc3RQcm9taXNlVmFsdWUgPSB2YWx1ZTsKICAgIHJldHVybiBuZXh0LnZhbHVlLnJlc3BvbnNlOwogIH0pOwp9CgovKioKICogR2VuZXJhdG9yIGZ1bmN0aW9uIHdoaWNoIGlzIGNhbGxlZCBiZXR3ZWVuIGVhY2ggYXN5bmMgc3RlcCBvZiB0aGUgdXBsb2FkCiAqIHByb2Nlc3MuCiAqIEBwYXJhbSB7c3RyaW5nfSBpbnB1dElkIEVsZW1lbnQgSUQgb2YgdGhlIGlucHV0IGZpbGUgcGlja2VyIGVsZW1lbnQuCiAqIEBwYXJhbSB7c3RyaW5nfSBvdXRwdXRJZCBFbGVtZW50IElEIG9mIHRoZSBvdXRwdXQgZGlzcGxheS4KICogQHJldHVybiB7IUl0ZXJhYmxlPCFPYmplY3Q+fSBJdGVyYWJsZSBvZiBuZXh0IHN0ZXBzLgogKi8KZnVuY3Rpb24qIHVwbG9hZEZpbGVzU3RlcChpbnB1dElkLCBvdXRwdXRJZCkgewogIGNvbnN0IGlucHV0RWxlbWVudCA9IGRvY3VtZW50LmdldEVsZW1lbnRCeUlkKGlucHV0SWQpOwogIGlucHV0RWxlbWVudC5kaXNhYmxlZCA9IGZhbHNlOwoKICBjb25zdCBvdXRwdXRFbGVtZW50ID0gZG9jdW1lbnQuZ2V0RWxlbWVudEJ5SWQob3V0cHV0SWQpOwogIG91dHB1dEVsZW1lbnQuaW5uZXJIVE1MID0gJyc7CgogIGNvbnN0IHBpY2tlZFByb21pc2UgPSBuZXcgUHJvbWlzZSgocmVzb2x2ZSkgPT4gewogICAgaW5wdXRFbGVtZW50LmFkZEV2ZW50TGlzdGVuZXIoJ2NoYW5nZScsIChlKSA9PiB7CiAgICAgIHJlc29sdmUoZS50YXJnZXQuZmlsZXMpOwogICAgfSk7CiAgfSk7CgogIGNvbnN0IGNhbmNlbCA9IGRvY3VtZW50LmNyZWF0ZUVsZW1lbnQoJ2J1dHRvbicpOwogIGlucHV0RWxlbWVudC5wYXJlbnRFbGVtZW50LmFwcGVuZENoaWxkKGNhbmNlbCk7CiAgY2FuY2VsLnRleHRDb250ZW50ID0gJ0NhbmNlbCB1cGxvYWQnOwogIGNvbnN0IGNhbmNlbFByb21pc2UgPSBuZXcgUHJvbWlzZSgocmVzb2x2ZSkgPT4gewogICAgY2FuY2VsLm9uY2xpY2sgPSAoKSA9PiB7CiAgICAgIHJlc29sdmUobnVsbCk7CiAgICB9OwogIH0pOwoKICAvLyBXYWl0IGZvciB0aGUgdXNlciB0byBwaWNrIHRoZSBmaWxlcy4KICBjb25zdCBmaWxlcyA9IHlpZWxkIHsKICAgIHByb21pc2U6IFByb21pc2UucmFjZShbcGlja2VkUHJvbWlzZSwgY2FuY2VsUHJvbWlzZV0pLAogICAgcmVzcG9uc2U6IHsKICAgICAgYWN0aW9uOiAnc3RhcnRpbmcnLAogICAgfQogIH07CgogIGNhbmNlbC5yZW1vdmUoKTsKCiAgLy8gRGlzYWJsZSB0aGUgaW5wdXQgZWxlbWVudCBzaW5jZSBmdXJ0aGVyIHBpY2tzIGFyZSBub3QgYWxsb3dlZC4KICBpbnB1dEVsZW1lbnQuZGlzYWJsZWQgPSB0cnVlOwoKICBpZiAoIWZpbGVzKSB7CiAgICByZXR1cm4gewogICAgICByZXNwb25zZTogewogICAgICAgIGFjdGlvbjogJ2NvbXBsZXRlJywKICAgICAgfQogICAgfTsKICB9CgogIGZvciAoY29uc3QgZmlsZSBvZiBmaWxlcykgewogICAgY29uc3QgbGkgPSBkb2N1bWVudC5jcmVhdGVFbGVtZW50KCdsaScpOwogICAgbGkuYXBwZW5kKHNwYW4oZmlsZS5uYW1lLCB7Zm9udFdlaWdodDogJ2JvbGQnfSkpOwogICAgbGkuYXBwZW5kKHNwYW4oCiAgICAgICAgYCgke2ZpbGUudHlwZSB8fCAnbi9hJ30pIC0gJHtmaWxlLnNpemV9IGJ5dGVzLCBgICsKICAgICAgICBgbGFzdCBtb2RpZmllZDogJHsKICAgICAgICAgICAgZmlsZS5sYXN0TW9kaWZpZWREYXRlID8gZmlsZS5sYXN0TW9kaWZpZWREYXRlLnRvTG9jYWxlRGF0ZVN0cmluZygpIDoKICAgICAgICAgICAgICAgICAgICAgICAgICAgICAgICAgICAgJ24vYSd9IC0gYCkpOwogICAgY29uc3QgcGVyY2VudCA9IHNwYW4oJzAlIGRvbmUnKTsKICAgIGxpLmFwcGVuZENoaWxkKHBlcmNlbnQpOwoKICAgIG91dHB1dEVsZW1lbnQuYXBwZW5kQ2hpbGQobGkpOwoKICAgIGNvbnN0IGZpbGVEYXRhUHJvbWlzZSA9IG5ldyBQcm9taXNlKChyZXNvbHZlKSA9PiB7CiAgICAgIGNvbnN0IHJlYWRlciA9IG5ldyBGaWxlUmVhZGVyKCk7CiAgICAgIHJlYWRlci5vbmxvYWQgPSAoZSkgPT4gewogICAgICAgIHJlc29sdmUoZS50YXJnZXQucmVzdWx0KTsKICAgICAgfTsKICAgICAgcmVhZGVyLnJlYWRBc0FycmF5QnVmZmVyKGZpbGUpOwogICAgfSk7CiAgICAvLyBXYWl0IGZvciB0aGUgZGF0YSB0byBiZSByZWFkeS4KICAgIGxldCBmaWxlRGF0YSA9IHlpZWxkIHsKICAgICAgcHJvbWlzZTogZmlsZURhdGFQcm9taXNlLAogICAgICByZXNwb25zZTogewogICAgICAgIGFjdGlvbjogJ2NvbnRpbnVlJywKICAgICAgfQogICAgfTsKCiAgICAvLyBVc2UgYSBjaHVua2VkIHNlbmRpbmcgdG8gYXZvaWQgbWVzc2FnZSBzaXplIGxpbWl0cy4gU2VlIGIvNjIxMTU2NjAuCiAgICBsZXQgcG9zaXRpb24gPSAwOwogICAgd2hpbGUgKHBvc2l0aW9uIDwgZmlsZURhdGEuYnl0ZUxlbmd0aCkgewogICAgICBjb25zdCBsZW5ndGggPSBNYXRoLm1pbihmaWxlRGF0YS5ieXRlTGVuZ3RoIC0gcG9zaXRpb24sIE1BWF9QQVlMT0FEX1NJWkUpOwogICAgICBjb25zdCBjaHVuayA9IG5ldyBVaW50OEFycmF5KGZpbGVEYXRhLCBwb3NpdGlvbiwgbGVuZ3RoKTsKICAgICAgcG9zaXRpb24gKz0gbGVuZ3RoOwoKICAgICAgY29uc3QgYmFzZTY0ID0gYnRvYShTdHJpbmcuZnJvbUNoYXJDb2RlLmFwcGx5KG51bGwsIGNodW5rKSk7CiAgICAgIHlpZWxkIHsKICAgICAgICByZXNwb25zZTogewogICAgICAgICAgYWN0aW9uOiAnYXBwZW5kJywKICAgICAgICAgIGZpbGU6IGZpbGUubmFtZSwKICAgICAgICAgIGRhdGE6IGJhc2U2NCwKICAgICAgICB9LAogICAgICB9OwogICAgICBwZXJjZW50LnRleHRDb250ZW50ID0KICAgICAgICAgIGAke01hdGgucm91bmQoKHBvc2l0aW9uIC8gZmlsZURhdGEuYnl0ZUxlbmd0aCkgKiAxMDApfSUgZG9uZWA7CiAgICB9CiAgfQoKICAvLyBBbGwgZG9uZS4KICB5aWVsZCB7CiAgICByZXNwb25zZTogewogICAgICBhY3Rpb246ICdjb21wbGV0ZScsCiAgICB9CiAgfTsKfQoKc2NvcGUuZ29vZ2xlID0gc2NvcGUuZ29vZ2xlIHx8IHt9OwpzY29wZS5nb29nbGUuY29sYWIgPSBzY29wZS5nb29nbGUuY29sYWIgfHwge307CnNjb3BlLmdvb2dsZS5jb2xhYi5fZmlsZXMgPSB7CiAgX3VwbG9hZEZpbGVzLAogIF91cGxvYWRGaWxlc0NvbnRpbnVlLAp9Owp9KShzZWxmKTsK",
              "ok": true,
              "headers": [
                [
                  "content-type",
                  "application/javascript"
                ]
              ],
              "status": 200,
              "status_text": ""
            }
          },
          "base_uri": "https://localhost:8080/",
          "height": 73
        }
      },
      "source": [
        "from google.colab import files\n",
        "uploaded = files.upload()\n"
      ],
      "execution_count": 15,
      "outputs": [
        {
          "output_type": "display_data",
          "data": {
            "text/html": [
              "\n",
              "     <input type=\"file\" id=\"files-efd6b0b4-5fb3-4238-989f-fa01aa08ef51\" name=\"files[]\" multiple disabled\n",
              "        style=\"border:none\" />\n",
              "     <output id=\"result-efd6b0b4-5fb3-4238-989f-fa01aa08ef51\">\n",
              "      Upload widget is only available when the cell has been executed in the\n",
              "      current browser session. Please rerun this cell to enable.\n",
              "      </output>\n",
              "      <script src=\"/nbextensions/google.colab/files.js\"></script> "
            ],
            "text/plain": [
              "<IPython.core.display.HTML object>"
            ]
          },
          "metadata": {
            "tags": []
          }
        },
        {
          "output_type": "stream",
          "text": [
            "Saving Mahasiswa.xls to Mahasiswa (1).xls\n"
          ],
          "name": "stdout"
        }
      ]
    },
    {
      "cell_type": "markdown",
      "metadata": {
        "id": "CLZDWvuZNcHk"
      },
      "source": [
        "# Read Files"
      ]
    },
    {
      "cell_type": "code",
      "metadata": {
        "id": "bPJ2Z92nLDmg"
      },
      "source": [
        "df = pd.read_excel(io.BytesIO(uploaded['Mahasiswa.xls']))\n",
        "data_inf = []\n",
        "\n",
        "for i in range (len(df)):\n",
        "  data_inf.append([df['Id'][i], df['Penghasilan'][i], df['Pengeluaran'][i]])\n"
      ],
      "execution_count": 152,
      "outputs": []
    },
    {
      "cell_type": "markdown",
      "metadata": {
        "id": "xaDmAfe_OZvz"
      },
      "source": [
        "# Membership function\n"
      ]
    },
    {
      "cell_type": "code",
      "metadata": {
        "id": "4zrZfwFWOe9U"
      },
      "source": [
        "# Penghasilan\n",
        "\n",
        "def penghasilanRendah(x):\n",
        "  if x <= 7:\n",
        "    return 1\n",
        "  elif x > 9:\n",
        "    return 0\n",
        "  else:\n",
        "    return (9 - x)/(9-7)\n",
        "\n",
        "def penghasilanMenengah(x):\n",
        "  if x<=7 or x>17:\n",
        "    return 0\n",
        "  elif x>7 and x<=10:\n",
        "    return (x-7)/(10-7)\n",
        "  elif x>10 and x<=15:\n",
        "    return 1\n",
        "  else:\n",
        "    return (17-x)/(17-15)\n",
        "\n",
        "def penghasilanTinggi(x):\n",
        "  if x <= 10:\n",
        "    return 0\n",
        "  elif x > 17:\n",
        "    return 1\n",
        "  else:\n",
        "    return (x-10)/(17-10)\n",
        "\n",
        "\n",
        "# Pengeluaran\n",
        "def pengeluaranRendah(x):\n",
        "  if x <= 3:\n",
        "    return 1\n",
        "  elif x > 6: \n",
        "    return 0\n",
        "  else:\n",
        "    return (6-x)/(6-3)\n",
        "\n",
        "def pengeluaranMenengah(x):\n",
        "  if x<=3 or x>9:\n",
        "    return 0\n",
        "  elif x>3 and x<=6.5:\n",
        "    return (x-3)/(6.5-3)\n",
        "  elif x>6.5 and x<=8:\n",
        "    return 1\n",
        "  else:\n",
        "    return (9-x)/(9-8)\n",
        "\n",
        "def pengeluaranTinggi(x):\n",
        "  if x <= 7:\n",
        "    return 0\n",
        "  elif x > 9:\n",
        "    return 1\n",
        "  else:\n",
        "    return (x-7)/(9-7)\n",
        "\n",
        "\n",
        "\n"
      ],
      "execution_count": 154,
      "outputs": []
    },
    {
      "cell_type": "code",
      "metadata": {
        "id": "4Z39BWPlbwLx",
        "outputId": "3363902e-9493-40cd-f14e-9b6a4f523684",
        "colab": {
          "base_uri": "https://localhost:8080/",
          "height": 299
        }
      },
      "source": [
        "#GRAFIK PENGHASILAN\n",
        "import matplotlib.pyplot as plt\n",
        "x = np.arange(0,20,0.1)\n",
        "plt.plot(x,[penghasilanTinggi(i) for i in x], label='Tinggi')\n",
        "plt.plot(x,[penghasilanMenengah(i) for i in x], label='Menengah')\n",
        "plt.plot(x,[penghasilanRendah(i) for i in x], label='Rendah')\n",
        "plt.title(\"Grafik Penghasilan\")\n",
        "plt.legend()\n",
        "\n"
      ],
      "execution_count": 160,
      "outputs": [
        {
          "output_type": "execute_result",
          "data": {
            "text/plain": [
              "<matplotlib.legend.Legend at 0x7f8e3ad55860>"
            ]
          },
          "metadata": {
            "tags": []
          },
          "execution_count": 160
        },
        {
          "output_type": "display_data",
          "data": {
            "image/png": "[encoded data removed]",
            "text/plain": [
              "<Figure size 432x288 with 1 Axes>"
            ]
          },
          "metadata": {
            "tags": [],
            "needs_background": "light"
          }
        }
      ]
    },
    {
      "cell_type": "code",
      "metadata": {
        "id": "bCxYkwy5pNqM",
        "outputId": "4de2c4cd-44b0-4a0b-e11b-77316b46ff82",
        "colab": {
          "base_uri": "https://localhost:8080/",
          "height": 299
        }
      },
      "source": [
        "#GRAFIK PENGELUARAN\n",
        "\n",
        "x = np.arange(0,15,0.1)\n",
        "plt.plot(x,[pengeluaranTinggi(i) for i in x], label='Tinggi')\n",
        "plt.plot(x,[pengeluaranMenengah(i) for i in x], label='Menengah')\n",
        "plt.plot(x,[pengeluaranRendah(i) for i in x], label='Rendah')\n",
        "plt.title(\"Grafik Pengeluaran\")\n",
        "plt.legend()"
      ],
      "execution_count": 162,
      "outputs": [
        {
          "output_type": "execute_result",
          "data": {
            "text/plain": [
              "<matplotlib.legend.Legend at 0x7f8e39a4feb8>"
            ]
          },
          "metadata": {
            "tags": []
          },
          "execution_count": 162
        },
        {
          "output_type": "display_data",
          "data": {
            "image/png": "[encoded data removed]",
            "text/plain": [
              "<Figure size 432x288 with 1 Axes>"
            ]
          },
          "metadata": {
            "tags": [],
            "needs_background": "light"
          }
        }
      ]
    },
    {
      "cell_type": "markdown",
      "metadata": {
        "id": "tTHKuVOzpelP"
      },
      "source": [
        "# FUZZIFICATION"
      ]
    },
    {
      "cell_type": "code",
      "metadata": {
        "id": "X9rF_ZqbphTI"
      },
      "source": [
        "# fuzifikasi sesuai batasan membership function\n",
        "\n",
        "d_penghasilan = []\n",
        "d_pengeluaran = []\n",
        "\n",
        "for i in range(len(data_inf)):\n",
        "  d_penghasilan.append([data_inf[i][0], penghasilanTinggi(data_inf[i][1]), penghasilanRendah(data_inf[i][1]), penghasilanMenengah(data_inf[i][1])])\n",
        "  d_pengeluaran.append([data_inf[i][0], pengeluaranTinggi(data_inf[i][2]), pengeluaranRendah(data_inf[i][2]), pengeluaranMenengah(data_inf[i][2])])\n"
      ],
      "execution_count": 155,
      "outputs": []
    },
    {
      "cell_type": "markdown",
      "metadata": {
        "id": "iLF71yOMBe6K"
      },
      "source": [
        "# INFERENCE"
      ]
    },
    {
      "cell_type": "markdown",
      "metadata": {
        "id": "eqFitOCdKhFf"
      },
      "source": [
        "| PENGHASILAN | PENGELUARAN | SCORE |\n",
        "| --- | --- | --- |\n",
        "| RENDAH | RENDAH | ACCEPTED  |\n",
        "| RENDAH | MENENGAH | ACCEPTED |\n",
        "| RENDAH | TINGGI | ACCEPTED |\n",
        "| MENENGAH | RENDAH | CONSIDERED |\n",
        "| MENENGAH | MENENGAH | CONSIDERED |\n",
        "| MENENGAH | TINGGI | ACCEPTED |\n",
        "| TINGGI | RENDAH | REJECTED |\n",
        "| TINGGI | MENENGAH | REJECTED |\n",
        "| TINGGI | TINGGI | REJECTED |"
      ]
    },
    {
      "cell_type": "code",
      "metadata": {
        "id": "-aYoj2gDBhSJ"
      },
      "source": [
        "# DATA INFERENCE (ARRAY)\n",
        "d_inf = []\n",
        "for i in range(len(data_inf)):\n",
        "  acc = []\n",
        "  rej = []\n",
        "  con = []\n",
        "\n",
        "  acc.append(min(d_penghasilan[i][2], d_pengeluaran[i][2]))\n",
        "  acc.append(min(d_penghasilan[i][2], d_pengeluaran[i][3]))\n",
        "  acc.append(min(d_penghasilan[i][2], d_pengeluaran[i][1]))\n",
        "\n",
        "  con.append(min(d_penghasilan[i][3], d_pengeluaran[i][2]))\n",
        "  con.append(min(d_penghasilan[i][3], d_pengeluaran[i][3]))\n",
        "  acc.append(min(d_penghasilan[i][3], d_pengeluaran[i][1]))\n",
        "\n",
        "  rej.append(min(d_penghasilan[i][1], d_pengeluaran[i][2]))\n",
        "  rej.append(min(d_penghasilan[i][1], d_pengeluaran[i][3]))\n",
        "  rej.append(min(d_penghasilan[i][1], d_pengeluaran[i][1]))\n",
        "\n",
        "  nilaiAcc = np.max(acc)\n",
        "  nilaiRej = np.max(rej)\n",
        "  nilaiCon = np.max(con)\n",
        "\n",
        "  d_inf.append([data_inf[i][0],nilaiAcc,nilaiRej,nilaiCon])\n",
        "\n",
        "\n"
      ],
      "execution_count": 156,
      "outputs": []
    },
    {
      "cell_type": "markdown",
      "metadata": {
        "id": "CKWWzulDjK3w"
      },
      "source": [
        "# DEFUZZYFICATION (SUGENO)"
      ]
    },
    {
      "cell_type": "code",
      "metadata": {
        "id": "JSXtsJYKjP8h"
      },
      "source": [
        "d_def = []\n",
        "for i in range(len(data_inf)):\n",
        "  d_def.append([data_inf[i][0], data_inf[i][1], data_inf[i][2], ((d_inf[i][1]*95) + (d_inf[i][2]*50) + (d_inf[i][3]*70)) / (d_inf[i][1]+d_inf[i][2]+d_inf[i][3])])\n"
      ],
      "execution_count": 157,
      "outputs": []
    },
    {
      "cell_type": "markdown",
      "metadata": {
        "id": "-rGuv25WrKNs"
      },
      "source": [
        "# Sorting by Deffuzification"
      ]
    },
    {
      "cell_type": "code",
      "metadata": {
        "id": "JFyWlYn2rJv8"
      },
      "source": [
        "def sortData(elem):\n",
        "    return elem[3]"
      ],
      "execution_count": 158,
      "outputs": []
    },
    {
      "cell_type": "markdown",
      "metadata": {
        "id": "W8hKkzoeBN4F"
      },
      "source": [
        "# Output"
      ]
    },
    {
      "cell_type": "code",
      "metadata": {
        "id": "fLujc3bjmrlG",
        "outputId": "95b56734-a152-4f07-8791-2c7ad4d564e0",
        "colab": {
          "base_uri": "https://localhost:8080/"
        }
      },
      "source": [
        "d_def.sort(key=sortData, reverse=True)\n",
        "d_output = []\n",
        "d_nilai = []\n",
        "for i in range(20):\n",
        "  d_output.append(d_def[i][0])\n",
        "  d_nilai.append(d_def[i][3])\n",
        "print(\"20 Orang terpilih mendapatkan bantuan beasiswa : \", d_output, d_nilai, sep='\\n')\n",
        "\n"
      ],
      "execution_count": 159,
      "outputs": [
        {
          "output_type": "stream",
          "text": [
            "20 Orang terpilih mendapatkan bantuan beasiswa : \n",
            "[4, 81, 94, 11, 13, 25, 33, 38, 41, 46, 47, 49, 52, 66, 69, 75, 79, 99, 7, 50]\n",
            "[95.00000000000001, 95.00000000000001, 95.00000000000001, 95.0, 95.0, 95.0, 95.0, 95.0, 95.0, 95.0, 95.0, 95.0, 95.0, 95.0, 95.0, 95.0, 95.0, 95.0, 94.99999999999999, 94.99999999999999]\n"
          ],
          "name": "stdout"
        }
      ]
    },
    {
      "cell_type": "markdown",
      "metadata": {
        "id": "2aFf-miLK3XX"
      },
      "source": [
        "# Visualisasi Persebaran Data"
      ]
    },
    {
      "cell_type": "code",
      "metadata": {
        "id": "UXCGa_ttmDFL",
        "outputId": "c8db6106-ea4d-41ab-f569-0229b1e48be4",
        "colab": {
          "base_uri": "https://localhost:8080/",
          "height": 483
        }
      },
      "source": [
        "# Visualiasi\n",
        "fig, ax = plt.subplots(1, figsize=(12,6))\n",
        "d_def = np.array(d_def)\n",
        "penghasilan = d_def[:, 1]\n",
        "pengeluaran = d_def[:, 2]\n",
        "\n",
        "ax = sns.scatterplot(penghasilan[20:], pengeluaran[20:], label=\"Tidak Dapat Bantuan\")\n",
        "ax = sns.scatterplot(penghasilan[0:20], pengeluaran[0:20],  label='Dapat Bantuan')\n",
        "\n",
        "ax.set_title(\"Persebaran Data\")\n",
        "ax.grid(alpha=0.4)"
      ],
      "execution_count": 147,
      "outputs": [
        {
          "output_type": "stream",
          "text": [
            "/usr/local/lib/python3.6/dist-packages/seaborn/_decorators.py:43: FutureWarning: Pass the following variables as keyword args: x, y. From version 0.12, the only valid positional argument will be `data`, and passing other arguments without an explicit keyword will result in an error or misinterpretation.\n",
            "  FutureWarning\n",
            "/usr/local/lib/python3.6/dist-packages/seaborn/_decorators.py:43: FutureWarning: Pass the following variables as keyword args: x, y. From version 0.12, the only valid positional argument will be `data`, and passing other arguments without an explicit keyword will result in an error or misinterpretation.\n",
            "  FutureWarning\n"
          ],
          "name": "stderr"
        },
        {
          "output_type": "display_data",
          "data": {
            "image/png": "[encoded data removed]",
            "text/plain": [
              "<Figure size 864x432 with 1 Axes>"
            ]
          },
          "metadata": {
            "tags": [],
            "needs_background": "light"
          }
        }
      ]
    },
    {
      "cell_type": "markdown",
      "metadata": {
        "id": "uSpMY50DWlK0"
      },
      "source": [
        "# Write Files"
      ]
    },
    {
      "cell_type": "code",
      "metadata": {
        "id": "Sntm7mITWklX",
        "outputId": "005d837a-ea86-42b7-dc1c-6b502a3a61fc",
        "colab": {
          "base_uri": "https://localhost:8080/",
          "height": 17
        }
      },
      "source": [
        "bantuan = pd.DataFrame(np.asarray(d_output), columns=['Id'])\n",
        "bantuan.to_excel(\"Bantuan.xls\", index=False)\n",
        "files.download('Bantuan.xls')"
      ],
      "execution_count": 149,
      "outputs": [
        {
          "output_type": "display_data",
          "data": {
            "application/javascript": [
              "\n",
              "    async function download(id, filename, size) {\n",
              "      if (!google.colab.kernel.accessAllowed) {\n",
              "        return;\n",
              "      }\n",
              "      const div = document.createElement('div');\n",
              "      const label = document.createElement('label');\n",
              "      label.textContent = `Downloading \"${filename}\": `;\n",
              "      div.appendChild(label);\n",
              "      const progress = document.createElement('progress');\n",
              "      progress.max = size;\n",
              "      div.appendChild(progress);\n",
              "      document.body.appendChild(div);\n",
              "\n",
              "      const buffers = [];\n",
              "      let downloaded = 0;\n",
              "\n",
              "      const channel = await google.colab.kernel.comms.open(id);\n",
              "      // Send a message to notify the kernel that we're ready.\n",
              "      channel.send({})\n",
              "\n",
              "      for await (const message of channel.messages) {\n",
              "        // Send a message to notify the kernel that we're ready.\n",
              "        channel.send({})\n",
              "        if (message.buffers) {\n",
              "          for (const buffer of message.buffers) {\n",
              "            buffers.push(buffer);\n",
              "            downloaded += buffer.byteLength;\n",
              "            progress.value = downloaded;\n",
              "          }\n",
              "        }\n",
              "      }\n",
              "      const blob = new Blob(buffers, {type: 'application/binary'});\n",
              "      const a = document.createElement('a');\n",
              "      a.href = window.URL.createObjectURL(blob);\n",
              "      a.download = filename;\n",
              "      div.appendChild(a);\n",
              "      a.click();\n",
              "      div.remove();\n",
              "    }\n",
              "  "
            ],
            "text/plain": [
              "<IPython.core.display.Javascript object>"
            ]
          },
          "metadata": {
            "tags": []
          }
        },
        {
          "output_type": "display_data",
          "data": {
            "application/javascript": [
              "download(\"download_748e9097-7027-48d2-98a9-f82818113d2d\", \"Bantuan.xls\", 5632)"
            ],
            "text/plain": [
              "<IPython.core.display.Javascript object>"
            ]
          },
          "metadata": {
            "tags": []
          }
        }
      ]
    }
  ]
}